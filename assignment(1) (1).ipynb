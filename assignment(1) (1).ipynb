{
 "cells": [
  {
   "cell_type": "code",
   "execution_count": null,
   "id": "98c9612d-44c5-4c1a-aeda-c6dfcb03fc90",
   "metadata": {},
   "outputs": [],
   "source": [
    "# Assignment"
   ]
  },
  {
   "cell_type": "code",
   "execution_count": 4,
   "id": "9994160c-03b5-44e3-8722-b779abf5b8fa",
   "metadata": {
    "tags": []
   },
   "outputs": [
    {
     "name": "stdout",
     "output_type": "stream",
     "text": [
      "Name: Awantika Joshi\n",
      "Course: MCA with MI and AL\n",
      "Python Version: 3.11.7\n"
     ]
    }
   ],
   "source": [
    "#write a python script that print your name, course name, and the python\n",
    "#version you are using also execute the script on the command line and include\n",
    "#a screenshot of the output\n",
    "\n",
    "\n",
    "\n",
    "import platform\n",
    "name = \"Awantika Joshi\"\n",
    "course = \"MCA with MI and AL\"\n",
    "print(\"Name:\", name)\n",
    "print(\"Course:\", course)\n",
    "print(\"Python Version:\", platform.python_version())"
   ]
  },
  {
   "cell_type": "code",
   "execution_count": 2,
   "id": "5819dd08-45a7-4fc1-b4a6-eab7e60e9128",
   "metadata": {
    "tags": []
   },
   "outputs": [],
   "source": [
    "#using idle open idle and write a python script that prints \"Hello python world\"\n",
    "#save the script as hello.py and execute it using idle"
   ]
  },
  {
   "attachments": {
    "1a7942e8-3237-4a82-8b1c-47873630b279.png": {
     "image/png": "[encoded data removed]"
    }
   },
   "cell_type": "markdown",
   "id": "80f177cb-6a8b-44d3-8ab9-8ce0a1897523",
   "metadata": {},
   "source": [
    "![Screenshot 2024-08-31 173702.png](attachment:1a7942e8-3237-4a82-8b1c-47873630b279.png)"
   ]
  },
  {
   "cell_type": "code",
   "execution_count": 6,
   "id": "fdc37869-47f2-4952-be84-fdb488683092",
   "metadata": {
    "tags": []
   },
   "outputs": [
    {
     "name": "stdin",
     "output_type": "stream",
     "text": [
      "enter the first name  awantika \n",
      "enter the second name joshi\n"
     ]
    },
    {
     "name": "stdout",
     "output_type": "stream",
     "text": [
      "joshi awantika \n"
     ]
    }
   ],
   "source": [
    "#Write a python program that takes a user's first and last name as input \n",
    "#and  prints them in reverse order with space between them \n",
    "\n",
    "first_name = input(\"enter the first name \")\n",
    "last_name =  input(\"enter the second name\")\n",
    "full_name = (last_name + \" \" + first_name)\n",
    "print(full_name)"
   ]
  },
  {
   "cell_type": "code",
   "execution_count": 10,
   "id": "4cac2a29-75ac-4226-a608-f85da88c5a2a",
   "metadata": {
    "tags": []
   },
   "outputs": [
    {
     "name": "stdin",
     "output_type": "stream",
     "text": [
      "enter the first name awantika \n",
      "enter the second name joshi\n"
     ]
    },
    {
     "name": "stdout",
     "output_type": "stream",
     "text": [
      "AWANTIKA \n",
      "JOSHI\n",
      "AWANTIKA \n",
      "JOSHI\n"
     ]
    }
   ],
   "source": [
    "#use at least two string methods and explain their purpose in the comments\n",
    "firstname = input(\"enter the first name\")\n",
    "secondname = input(\"enter the second name\")\n",
    "first_name1 = firstname.upper() # this converts the entire string in to uppercase \n",
    "last_name1 = secondname.upper()\n",
    "\n",
    "print(first_name1)\n",
    "print(last_name1)\n",
    "\n",
    "x = firstname.swapcase() #this converts the lower case letter into upper case and vice versa\n",
    "y = secondname.swapcase()\n",
    "print(x)\n",
    "print(y)"
   ]
  },
  {
   "cell_type": "code",
   "execution_count": 12,
   "id": "a4c57971-7084-4c2d-97d3-434c160ea91c",
   "metadata": {},
   "outputs": [
    {
     "name": "stdin",
     "output_type": "stream",
     "text": [
      "ENter the number  99\n"
     ]
    },
    {
     "name": "stdout",
     "output_type": "stream",
     "text": [
      "integer value: 99\n",
      "float value: 99.0\n",
      "complex value: (99+0j)\n"
     ]
    }
   ],
   "source": [
    "#Write a python program that takes an input number from the user converts it to different \n",
    "#numeric data types(integer, float and complex) and displays the converted values.\n",
    "\n",
    "#2 explain the difference between these data types in comments.\n",
    "\n",
    "x = input(\"ENter the number \") # this takes input from the user \n",
    "\n",
    "a = int(x)        # converts the number into integer data type\n",
    "b = float(x)      #converts the number into float data type\n",
    "c = complex(x)    #convets the number into complex data type\n",
    "\n",
    "print(\"integer value:\",a)   \n",
    "print(\"float value:\",b)\n",
    "print(\"complex value:\", c)\n",
    "\n",
    "\n",
    "#EXPLANATION OF DATA TYPES\n",
    "\n",
    "# integer values are those values that doest not contain decimal values like 4,6,7 etc\n",
    "#where as the float values are those that are decimal values like 5.3335,6.45\n",
    "#where as complex values are  those that shows the form of a+ bj where j is known as iota \n"
   ]
  },
  {
   "cell_type": "code",
   "execution_count": 39,
   "id": "d25d6377-7377-49b1-b672-ce5793981d35",
   "metadata": {},
   "outputs": [
    {
     "name": "stdin",
     "output_type": "stream",
     "text": [
      "Enter the length: 33\n",
      "Enter the breadth:  22\n"
     ]
    },
    {
     "name": "stdout",
     "output_type": "stream",
     "text": [
      "Area of the rectangle 726\n"
     ]
    }
   ],
   "source": [
    "\n",
    "#QUESTION 3\n",
    "\n",
    "#python script that calculates the area of a rectangle the script should prompt the user to enter the length \n",
    "#and width of the of the rectangle display the result using the print function\n",
    "\n",
    "#taking input from the user\n",
    "length = int(input(\"Enter the length:\"))\n",
    "breadth = int(input(\"Enter the breadth: \"))\n",
    "area = length*breadth\n",
    "print(\"Area of the rectangle\",area)"
   ]
  },
  {
   "cell_type": "code",
   "execution_count": 45,
   "id": "0912e894-290f-4e01-80af-879c3dcd86d7",
   "metadata": {},
   "outputs": [
    {
     "name": "stdin",
     "output_type": "stream",
     "text": [
      "Enter the length: 33\n",
      "Enter the breadth:  22\n"
     ]
    },
    {
     "name": "stdout",
     "output_type": "stream",
     "text": [
      "Area of the rectangle: 726.00\n"
     ]
    }
   ],
   "source": [
    "#modify the rectangle area program to format the output so that it display the area with \n",
    "#two decimal places\n",
    "\n",
    "\n",
    "#taking input from the user\n",
    "length = int(input(\"Enter the length:\"))\n",
    "breadth = int(input(\"Enter the breadth: \"))\n",
    "area = length*breadth\n",
    "print(f\"Area of the rectangle: {area:.2f}\")"
   ]
  },
  {
   "cell_type": "code",
   "execution_count": 22,
   "id": "06cb414f-928d-49d5-b247-8ee7dfe19aa4",
   "metadata": {
    "tags": []
   },
   "outputs": [
    {
     "name": "stdin",
     "output_type": "stream",
     "text": [
      "Enter the first number 15\n",
      "Enter the second number  35\n",
      "Enter the third number 55\n"
     ]
    },
    {
     "name": "stdout",
     "output_type": "stream",
     "text": [
      "The average of the three numbers is: 35.00\n"
     ]
    }
   ],
   "source": [
    "#QUESTION 3 Part 2\n",
    "#write a program script that takes three numbers as input and prints their average using \n",
    "#the % method for string formatting.\n",
    "#Also use the print function to display a message that states, the average of the three \n",
    "#numbers is \"[calculated average]\n",
    "\n",
    "\n",
    "\n",
    "\n",
    "# Taking user input for three numbers\n",
    "num1 = int(input(\"Enter the first number\"))\n",
    "num2 = int(input(\"Enter the second number \"))\n",
    "num3 = int(input(\"Enter the third number\"))\n",
    "\n",
    "\n",
    "calculate_average = (num1 + num2 + num3) / 3   #calculating the average\n",
    "\n",
    "# Print the average using % formatting \n",
    "print(f\"The average of the three numbers is: %.2f\" % calculate_average)"
   ]
  },
  {
   "cell_type": "code",
   "execution_count": 12,
   "id": "7f4b3f4b-43b6-47bf-90e7-c5c55a45ed1e",
   "metadata": {
    "tags": []
   },
   "outputs": [
    {
     "name": "stdin",
     "output_type": "stream",
     "text": [
      "Enter the number 28\n"
     ]
    },
    {
     "name": "stdout",
     "output_type": "stream",
     "text": [
      "Number is postive\n"
     ]
    }
   ],
   "source": [
    "# Wrrit a python program that ask the user for a number and determine whether it is positive\n",
    "#negative or zero\n",
    "\n",
    "num = int(input(\"Enter the number\"))\n",
    "\n",
    "if num > 0:\n",
    "    print(\"Number is postive\")\n",
    "elif num<0:\n",
    "    print(\"number is negative\")\n",
    "else:\n",
    "    print(\"Number is zero\")\n",
    "    "
   ]
  },
  {
   "cell_type": "code",
   "execution_count": 1,
   "id": "d6fda183-1c5d-4acf-b819-6e220000ad5f",
   "metadata": {},
   "outputs": [
    {
     "name": "stdin",
     "output_type": "stream",
     "text": [
      "Enter a number (or type 'exit' to quit)  5\n"
     ]
    },
    {
     "name": "stdout",
     "output_type": "stream",
     "text": [
      "The number is positive.\n"
     ]
    },
    {
     "name": "stdin",
     "output_type": "stream",
     "text": [
      "Enter a number (or type 'exit' to quit)  33\n"
     ]
    },
    {
     "name": "stdout",
     "output_type": "stream",
     "text": [
      "The number is positive.\n"
     ]
    },
    {
     "name": "stdin",
     "output_type": "stream",
     "text": [
      "Enter a number (or type 'exit' to quit)  -43\n"
     ]
    },
    {
     "name": "stdout",
     "output_type": "stream",
     "text": [
      "The number is negative.\n"
     ]
    },
    {
     "name": "stdin",
     "output_type": "stream",
     "text": [
      "Enter a number (or type 'exit' to quit)  exit\n"
     ]
    },
    {
     "name": "stdout",
     "output_type": "stream",
     "text": [
      "Exiting the program.\n"
     ]
    }
   ],
   "source": [
    "#implement a loop that continues to ask the user for a number until they enter exit\n",
    "#use break to exit the loop and continue to prompt for a new number if the input is not exits\n",
    "\n",
    "\n",
    "while True:                   # Loop to asking again and again from the user\n",
    "    user_input = input(\"Enter a number (or type 'exit' to quit) \")\n",
    "\n",
    "    \n",
    "    if user_input.lower() == 'exit':              # Check if the user wants to exit\n",
    "        print(\"Exiting the program.\")\n",
    "        break\n",
    "\n",
    "    try:                    # Try to convert the input to a float\n",
    "    # we will use exception handling , bcoz user can also different input\n",
    "        number = float(user_input)\n",
    "        \n",
    "        # checking \n",
    "        if number > 0:\n",
    "            print(\"The number is positive.\")\n",
    "        elif number < 0:\n",
    "            print(\"The number is negative.\")\n",
    "        else:\n",
    "            print(\"The number is zero.\")\n",
    "    except ValueError:\n",
    "        print(\"Please enter a valid number or 'exit' to quit.\")\n"
   ]
  },
  {
   "cell_type": "code",
   "execution_count": 20,
   "id": "881d8a08-fc3e-4e4d-9402-7323a1bba53e",
   "metadata": {
    "tags": []
   },
   "outputs": [
    {
     "name": "stdin",
     "output_type": "stream",
     "text": [
      "Enter the first number  15\n",
      "Enter the second number  20\n"
     ]
    },
    {
     "name": "stdout",
     "output_type": "stream",
     "text": [
      "One number is even and the other is odd\n"
     ]
    }
   ],
   "source": [
    "#Question 3 .1\n",
    " #Relational and logical operators\n",
    "\n",
    "#Create a python script that takes two number as input and print whether both numbers are\n",
    "#even or odd or one of each using relational and logical \n",
    "\n",
    "#ANSWER\n",
    "\n",
    "# user input \n",
    "num1 = int(input(\"Enter the first number \"))\n",
    "num2 = int(input(\"Enter the second number \"))\n",
    "\n",
    "# Checking  if both numbers are even or odd\n",
    "if num1 % 2 == 0 and num2 % 2 == 0:\n",
    "    print(\"Both numbers are even\")\n",
    "elif num1 % 2 != 0 and num2 % 2 != 0:\n",
    "    print(\"Both numbers are odd\")\n",
    "else:\n",
    "    print(\"One number is even and the other is odd\")"
   ]
  },
  {
   "cell_type": "code",
   "execution_count": 16,
   "id": "c6d4ac53-0671-47c8-bb20-d325597eaf5b",
   "metadata": {
    "tags": []
   },
   "outputs": [
    {
     "name": "stdin",
     "output_type": "stream",
     "text": [
      "Enter an integer  23\n"
     ]
    },
    {
     "name": "stdout",
     "output_type": "stream",
     "text": [
      "Binary: 10111\n",
      "Octal: 27\n",
      "Hexadecimal: 17\n"
     ]
    }
   ],
   "source": [
    "#for loop and bitwise operators\n",
    "\n",
    "#Write a Python code program that takes an integer input and prints its binary, octal\n",
    "#and hexadecimal equivalents using a for loop and bitwise operators\n",
    "\n",
    "\n",
    "\n",
    "#ANSWERS\n",
    "\n",
    "# user input \n",
    "number = int(input(\"Enter an integer \"))\n",
    "\n",
    "# Initialize variables for binary, octal, and hexadecimal representations\n",
    "binary = \"\"\n",
    "octal = \"\"\n",
    "hexadecimal = \"\"\n",
    "\n",
    "# Calculate binary representation using bitwise operators\n",
    "for i in range(31, -1, -1):  # Assuming 32 bits for the integer\n",
    "    # Check if the ith bit is set\n",
    "    if number & (1 << i):\n",
    "        binary += \"1\"\n",
    "    else:\n",
    "        binary += \"0\"\n",
    "\n",
    "\n",
    "# Remove leading zeros for binary representation\n",
    "binary = binary.lstrip(\"0\") or \"0\"\n",
    "\n",
    "# Calculate octal representation using bitwise operators\n",
    "temp_number = number\n",
    "while temp_number > 0:\n",
    "    octal_digit = temp_number & 7  # Get the last three bits\n",
    "    octal = str(octal_digit) + octal\n",
    "    temp_number >>= 3  # Right shift by 3 to move to the next group of bits\n",
    "\n",
    "# If the input number is 0, ensure the octal representation is \"0\"\n",
    "if not octal:\n",
    "    octal = \"0\"\n",
    "\n",
    "# Calculate hexadecimal representation using bitwise operators\n",
    "temp_number = number\n",
    "while temp_number > 0:\n",
    "    hex_digit = temp_number & 15  # Get the last four bits\n",
    "    # Convert to hexadecimal character\n",
    "    if hex_digit < 10:\n",
    "        hexadecimal = str(hex_digit) + hexadecimal\n",
    "    else:\n",
    "        hexadecimal = chr(ord('A') + hex_digit - 10) + hexadecimal_representation\n",
    "    temp_number >>= 4  # Right shift by 4 to move to the next group of bits\n",
    "\n",
    "# If the input number is 0, ensure the hexadecimal representation is \"0\"\n",
    "if not hexadecimal:\n",
    "    hexadecimal = \"0\"\n",
    "\n",
    "# Print the results\n",
    "print(f\"Binary: {binary}\")\n",
    "print(f\"Octal: {octal}\")\n",
    "print(f\"Hexadecimal: {hexadecimal}\")"
   ]
  },
  {
   "cell_type": "code",
   "execution_count": null,
   "id": "e7e53d1e-e149-4ec4-9a98-ecff52cbad6b",
   "metadata": {},
   "outputs": [],
   "source": []
  }
 ],
 "metadata": {
  "kernelspec": {
   "display_name": "Python 3 (ipykernel)",
   "language": "python",
   "name": "python3"
  },
  "language_info": {
   "codemirror_mode": {
    "name": "ipython",
    "version": 3
   },
   "file_extension": ".py",
   "mimetype": "text/x-python",
   "name": "python",
   "nbconvert_exporter": "python",
   "pygments_lexer": "ipython3",
   "version": "3.11.7"
  }
 },
 "nbformat": 4,
 "nbformat_minor": 5
}
